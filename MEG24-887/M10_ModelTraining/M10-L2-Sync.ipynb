{
  "cells": [
    {
      "cell_type": "markdown",
      "metadata": {
        "id": "gIDFU89a2WAU"
      },
      "source": [
        "# Following code is taken from:\n",
        "https://www.geeksforgeeks.org/cross-validation-using-k-fold-with-scikit-learn/"
      ]
    },
    {
      "cell_type": "code",
      "source": [
        "import numpy as np\n",
        "from sklearn import datasets\n",
        "from sklearn.model_selection import KFold\n",
        "\n",
        "# synthetic regression dataset\n",
        "X, y = datasets.make_regression(\n",
        "  n_samples=20, n_features=1, n_informative=1,\n",
        "  noise=0, random_state=0)\n",
        "\n",
        "# KFold split\n",
        "kf = KFold(n_splits=4)\n",
        "for i, (train_index, test_index) in enumerate(kf.split(X)):\n",
        "    print(f\"Fold {i}:\")\n",
        "    print(f\"  Training dataset index: {train_index}\")\n",
        "    print(f\"  Test dataset index: {test_index}\")\n",
        "kf.get_n_splits(X)\n"
      ],
      "metadata": {
        "colab": {
          "base_uri": "https://localhost:8080/"
        },
        "id": "OsH-0Fa4H7m-",
        "outputId": "0493de30-336a-4a2b-ddd5-b21b660800bd"
      },
      "execution_count": 18,
      "outputs": [
        {
          "output_type": "stream",
          "name": "stdout",
          "text": [
            "Fold 0:\n",
            "  Training dataset index: [ 5  6  7  8  9 10 11 12 13 14 15 16 17 18 19]\n",
            "  Test dataset index: [0 1 2 3 4]\n",
            "Fold 1:\n",
            "  Training dataset index: [ 0  1  2  3  4 10 11 12 13 14 15 16 17 18 19]\n",
            "  Test dataset index: [5 6 7 8 9]\n",
            "Fold 2:\n",
            "  Training dataset index: [ 0  1  2  3  4  5  6  7  8  9 15 16 17 18 19]\n",
            "  Test dataset index: [10 11 12 13 14]\n",
            "Fold 3:\n",
            "  Training dataset index: [ 0  1  2  3  4  5  6  7  8  9 10 11 12 13 14]\n",
            "  Test dataset index: [15 16 17 18 19]\n"
          ]
        },
        {
          "output_type": "execute_result",
          "data": {
            "text/plain": [
              "4"
            ]
          },
          "metadata": {},
          "execution_count": 18
        }
      ]
    },
    {
      "cell_type": "code",
      "source": [
        "from sklearn.datasets import make_classification\n",
        "import matplotlib.pyplot as plt\n",
        "from matplotlib.patches import Patch\n",
        "import numpy as np\n",
        "# define dataset\n",
        "n_samples = 500\n",
        "X, y = make_classification(\n",
        "  n_samples=n_samples, n_features=20, n_informative=15, n_redundant=5)\n",
        "\n",
        "# prepare the K-Fold cross-validation procedure\n",
        "n_splits = 10\n",
        "cv = KFold(n_splits=n_splits)\n"
      ],
      "metadata": {
        "id": "F001uateIM1f"
      },
      "execution_count": 24,
      "outputs": []
    },
    {
      "cell_type": "code",
      "source": [
        "def plot_kfold(cv, X, y, ax, n_splits, xlim_max):\n",
        "    \"\"\"\n",
        "    Plots the indices for a cross-validation object.\n",
        "\n",
        "    Parameters:\n",
        "    cv: Cross-validation object\n",
        "    X: Feature set\n",
        "    y: Target variable\n",
        "    ax: Matplotlib axis object\n",
        "    n_splits: Number of folds in the cross-validation\n",
        "    xlim_max: Maximum limit for the x-axis\n",
        "    \"\"\"\n",
        "\n",
        "    # Set color map for the plot\n",
        "    cmap_cv = plt.cm.coolwarm\n",
        "    cv_split = cv.split(X=X, y=y)\n",
        "\n",
        "    for i_split, (train_idx, test_idx) in enumerate(cv_split):\n",
        "        # Create an array of NaNs and fill in training/testing indices\n",
        "        indices = np.full(len(X), np.nan)\n",
        "        indices[test_idx], indices[train_idx] = 1, 0\n",
        "\n",
        "        # Plot the training and testing indices\n",
        "        ax_x = range(len(indices))\n",
        "        ax_y = [i_split + 0.5] * len(indices)\n",
        "        ax.scatter(ax_x, ax_y, c=indices, marker=\"_\",\n",
        "                   lw=10, cmap=cmap_cv, vmin=-0.2, vmax=1.2)\n",
        "\n",
        "    # Set y-ticks and labels\n",
        "    y_ticks = np.arange(n_splits) + 0.5\n",
        "    ax.set(yticks=y_ticks, yticklabels=range(n_splits),\n",
        "           xlabel=\"X index\", ylabel=\"Fold\",\n",
        "           ylim=[n_splits, -0.2], xlim=[0, xlim_max])\n",
        "\n",
        "    # Set plot title and create legend\n",
        "    ax.set_title(\"KFold\", fontsize=14)\n",
        "    legend_patches = [Patch(color=cmap_cv(0.8), label=\"Testing set\"),\n",
        "                      Patch(color=cmap_cv(0.02), label=\"Training set\")]\n",
        "    ax.legend(handles=legend_patches, loc=(1.03, 0.8))\n",
        "\n",
        "# Create figure and axis\n",
        "fig, ax = plt.subplots(figsize=(6, 3))\n",
        "plot_kfold(cv, X, y, ax, n_splits, n_samples)\n",
        "plt.tight_layout()\n",
        "fig.subplots_adjust(right=0.6)\n"
      ],
      "metadata": {
        "colab": {
          "base_uri": "https://localhost:8080/",
          "height": 307
        },
        "id": "xUvZSsNuIVwK",
        "outputId": "4921664d-8766-4cce-fbad-88a260df46aa"
      },
      "execution_count": 25,
      "outputs": [
        {
          "output_type": "display_data",
          "data": {
            "text/plain": [
              "<Figure size 600x300 with 1 Axes>"
            ],
            "image/png": "[encoded data removed]"
          },
          "metadata": {}
        }
      ]
    },
    {
      "cell_type": "code",
      "source": [
        "from numpy import mean\n",
        "from numpy import std\n",
        "\n",
        "from sklearn.linear_model import LogisticRegression\n",
        "from sklearn.model_selection import cross_val_score\n",
        "\n",
        "# create model\n",
        "log_reg = LogisticRegression()\n",
        "# evaluate model\n",
        "scores = cross_val_score(\n",
        "    log_reg, X, y, scoring='accuracy', cv=cv, n_jobs=-1)\n",
        "# accuracy\n",
        "print('Scores:', scores)\n",
        "print('Accuracy: %.3f ,\\nStandard Deviation :%.3f' %\n",
        "      (mean(scores), std(scores)))\n"
      ],
      "metadata": {
        "colab": {
          "base_uri": "https://localhost:8080/"
        },
        "id": "P8KZt-g0IZkb",
        "outputId": "920e9a88-9cfb-497a-d9a2-0a831d8f96ef"
      },
      "execution_count": 26,
      "outputs": [
        {
          "output_type": "stream",
          "name": "stdout",
          "text": [
            "Scores: [0.86 0.82 0.82 0.78 0.8  0.86 0.84 0.9  0.74 0.82]\n",
            "Accuracy: 0.824 ,\n",
            "Standard Deviation :0.043\n"
          ]
        }
      ]
    },
    {
      "cell_type": "code",
      "source": [
        "from sklearn.datasets import fetch_california_housing\n",
        "\n",
        "# fetch california housing data\n",
        "housing = fetch_california_housing()\n",
        "print(\"Dataset Shape:\", housing.data.shape, housing.target.shape)\n",
        "print(\"Dataset Features:\", housing.feature_names)\n"
      ],
      "metadata": {
        "colab": {
          "base_uri": "https://localhost:8080/"
        },
        "id": "EllONcegI-AH",
        "outputId": "6168e173-7b38-45b3-8c41-7d0b577fcd57"
      },
      "execution_count": 12,
      "outputs": [
        {
          "output_type": "stream",
          "name": "stdout",
          "text": [
            "Dataset Shape: (20640, 8) (20640,)\n",
            "Dataset Features: ['MedInc', 'HouseAge', 'AveRooms', 'AveBedrms', 'Population', 'AveOccup', 'Latitude', 'Longitude']\n"
          ]
        }
      ]
    },
    {
      "cell_type": "code",
      "source": [
        "from sklearn.preprocessing import StandardScaler\n",
        "from sklearn.model_selection import KFold\n",
        "import numpy as np\n",
        "\n",
        "X_housing = housing.data\n",
        "y_housing = housing.target\n",
        "\n",
        "# Scaling the data\n",
        "scaler = StandardScaler()\n",
        "X_scaler = scaler.fit_transform(X_housing)\n",
        "\n",
        "# K-Fold split\n",
        "cnt = 0\n",
        "n_splits = 5\n",
        "kf = KFold(n_splits=n_splits, shuffle = True, random_state=42)\n",
        "for train_index, test_index in kf.split(X_scaler, y_housing):\n",
        "    print(f'Fold:{cnt}, Train set: {len(train_index)}, \\\n",
        "    Test set:{len(test_index)}')\n",
        "    cnt += 1\n"
      ],
      "metadata": {
        "colab": {
          "base_uri": "https://localhost:8080/"
        },
        "id": "vPoZRvVbJD9u",
        "outputId": "6ee11f74-be02-4205-8112-a00d90b79694"
      },
      "execution_count": 60,
      "outputs": [
        {
          "output_type": "stream",
          "name": "stdout",
          "text": [
            "Fold:0, Train set: 16512,     Test set:4128\n",
            "Fold:1, Train set: 16512,     Test set:4128\n",
            "Fold:2, Train set: 16512,     Test set:4128\n",
            "Fold:3, Train set: 16512,     Test set:4128\n",
            "Fold:4, Train set: 16512,     Test set:4128\n"
          ]
        }
      ]
    },
    {
      "cell_type": "code",
      "source": [
        "fig, ax = plt.subplots(figsize=(6, 3))\n",
        "plot_kfold(kf, X_scaler, y_housing, ax, n_splits, xlim_max=2000)\n",
        "# Make the legend fit\n",
        "plt.tight_layout()\n",
        "fig.subplots_adjust(right=0.7)\n"
      ],
      "metadata": {
        "colab": {
          "base_uri": "https://localhost:8080/",
          "height": 307
        },
        "id": "ROCjzckoJPFv",
        "outputId": "aa5d962a-46bf-4295-9ab6-235f3788dbbd"
      },
      "execution_count": 56,
      "outputs": [
        {
          "output_type": "display_data",
          "data": {
            "text/plain": [
              "<Figure size 600x300 with 1 Axes>"
            ],
            "image/png": "[encoded data removed]"
          },
          "metadata": {}
        }
      ]
    },
    {
      "cell_type": "code",
      "source": [
        "from sklearn.linear_model import LinearRegression\n",
        "from sklearn.tree import DecisionTreeRegressor\n",
        "from sklearn.ensemble import RandomForestRegressor\n",
        "\n",
        "from sklearn.model_selection import cross_val_score\n",
        "\n",
        "def cross_validation(reg_model, housing_prepared, housing_labels, cv):\n",
        "    scores = cross_val_score(\n",
        "      reg_model, housing_prepared,\n",
        "      housing_labels,\n",
        "      scoring=\"neg_mean_squared_error\", cv=cv)\n",
        "    rmse_scores = np.sqrt(-scores)\n",
        "    print(\"Scores:\", rmse_scores)\n",
        "    print(\"Mean:\", rmse_scores.mean())\n",
        "    print(\"StandardDeviation:\", rmse_scores.std())\n",
        "\n",
        "print(\"----- Linear Regression Model Cross Validation ------\")\n",
        "lin_reg = LinearRegression()\n",
        "cross_validation(lin_reg, X_scaler, y_housing, kf)\n",
        "#print(\"\")\n",
        "#print(\"----- Decision Tree Regression Model Cross Validation ------\")\n",
        "#tree_reg = DecisionTreeRegressor()\n",
        "#cross_validation(tree_reg, X_scaler, y_housing, kf)\n",
        "#print(\"\")\n",
        "#print(\"----- Random Forest Regression Model Cross Validation ------\")\n",
        "#forest_reg = RandomForestRegressor()\n",
        "#cross_validation(forest_reg, X_scaler, y_housing, kf)\n",
        "\n"
      ],
      "metadata": {
        "colab": {
          "base_uri": "https://localhost:8080/"
        },
        "id": "8WZUAoXfJZnK",
        "outputId": "285d5a83-d5ca-4772-831f-896e95d10e4a"
      },
      "execution_count": 58,
      "outputs": [
        {
          "output_type": "stream",
          "name": "stdout",
          "text": [
            "----- Linear Regression Model Cross Validation ------\n",
            "Scores: [0.74558138 0.72639951 0.71364081 0.71052852 0.74510434]\n",
            "Mean: 0.7282509142479745\n",
            "StandardDeviation: 0.014935522116016313\n"
          ]
        }
      ]
    }
  ],
  "metadata": {
    "colab": {
      "provenance": []
    },
    "kernelspec": {
      "display_name": "torch",
      "language": "python",
      "name": "python3"
    },
    "language_info": {
      "codemirror_mode": {
        "name": "ipython",
        "version": 3
      },
      "file_extension": ".py",
      "mimetype": "text/x-python",
      "name": "python",
      "nbconvert_exporter": "python",
      "pygments_lexer": "ipython3",
      "version": "3.12.7"
    }
  },
  "nbformat": 4,
  "nbformat_minor": 0
}