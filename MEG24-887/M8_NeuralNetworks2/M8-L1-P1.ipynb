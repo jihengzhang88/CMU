{
 "cells": [
  {
   "attachments": {},
   "cell_type": "markdown",
   "metadata": {},
   "source": [
    "# M8-L1 Problem 1\n",
    "\n",
    "In this problem you will solve for $\\frac{\\partial L}{\\partial W_2}$ and $\\frac{\\partial L}{\\partial W_1}$ for a neural network with two input features, a hidden layer with 3 nodes, and a single output. You will use the sigmoid activation function on the hidden layer. You are provided an input sample $x_0$, the current weights $W_1$ and $W_2$, and the ground truth value for the sample, $t = -2$"
   ]
  },
  {
   "cell_type": "code",
   "execution_count": 1,
   "metadata": {},
   "outputs": [],
   "source": [
    "import numpy as np\n",
    "\n",
    "x0 = np.array([[-2], [-6]])\n",
    "\n",
    "W1 = np.array([[-2, 1],[3, 8],[-12, 7]])\n",
    "W2 = np.array([[-11, 2, 5]])\n",
    "\n",
    "t = np.array([[-2]])"
   ]
  },
  {
   "attachments": {},
   "cell_type": "markdown",
   "metadata": {},
   "source": [
    "## Define activation function and its derivative\n",
    "\n",
    "First define functions for the sigmoid activation functions, as well as its derivative:"
   ]
  },
  {
   "cell_type": "code",
   "execution_count": 2,
   "metadata": {},
   "outputs": [],
   "source": [
    "def sigmoid(x):\n",
    "    return 1 / (1 + np.exp(-x))\n",
    "\n",
    "def dsigmoid(x):\n",
    "    s = sigmoid(x)\n",
    "    return s*(1-s)"
   ]
  },
  {
   "attachments": {},
   "cell_type": "markdown",
   "metadata": {},
   "source": [
    "# Forward propagation\n",
    "\n",
    "Using your activation function, compute the output of the network $y$ using the sample $x_0$ and the provided weights $W_1$ and $W_2$"
   ]
  },
  {
   "cell_type": "code",
   "execution_count": 3,
   "metadata": {},
   "outputs": [
    {
     "name": "stdout",
     "output_type": "stream",
     "text": [
      "[[-1.31123207]]\n"
     ]
    }
   ],
   "source": [
    "a1 = W1 @ x0\n",
    "x1 = sigmoid(a1)\n",
    "a2 = W2 @ x1\n",
    "y = a2\n",
    "print(y)"
   ]
  },
  {
   "attachments": {},
   "cell_type": "markdown",
   "metadata": {},
   "source": [
    "## Backpropagation\n",
    "\n",
    "Using your calculated value of $y$, the provided value of $t$, your $\\sigma$ and $\\sigma'$ function, and the provided weights $W_1$ and $W_2$, compute the gradients $\\frac{\\partial L}{\\partial W_2}$ and $\\frac{\\partial L}{\\partial W_1}$."
   ]
  },
  {
   "cell_type": "code",
   "execution_count": 6,
   "metadata": {},
   "outputs": [
    {
     "name": "stdout",
     "output_type": "stream",
     "text": [
      "dLdw2 is [[8.21031503e-02 2.43316128e-24 1.04899215e-08]]\n",
      "dLdw1 is [[ 1.59095673e+00  4.77287018e+00]\n",
      " [-9.73264513e-24 -2.91979354e-23]\n",
      " [-1.04899214e-07 -3.14697641e-07]]\n"
     ]
    }
   ],
   "source": [
    "e = t - y\n",
    "L = 0.5*(e.T @ e)\n",
    "\n",
    "delta2 = -e\n",
    "dLdw2 = delta2 @ x1.T\n",
    "delta1 = W2.T @ delta2 * dsigmoid(a1)\n",
    "dLdw1 = delta1 @ x0.T\n",
    "\n",
    "print(f'dLdw2 is {dLdw2}')\n",
    "print(f'dLdw1 is {dLdw1}')"
   ]
  },
  {
   "cell_type": "code",
   "execution_count": null,
   "metadata": {},
   "outputs": [],
   "source": []
  }
 ],
 "metadata": {
  "kernelspec": {
   "display_name": "Python 3 (ipykernel)",
   "language": "python",
   "name": "python3"
  },
  "language_info": {
   "codemirror_mode": {
    "name": "ipython",
    "version": 3
   },
   "file_extension": ".py",
   "mimetype": "text/x-python",
   "name": "python",
   "nbconvert_exporter": "python",
   "pygments_lexer": "ipython3",
   "version": "3.11.6"
  }
 },
 "nbformat": 4,
 "nbformat_minor": 4
}
