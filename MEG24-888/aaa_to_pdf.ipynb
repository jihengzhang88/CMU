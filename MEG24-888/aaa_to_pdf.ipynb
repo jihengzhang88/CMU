{
 "cells": [
  {
   "cell_type": "markdown",
   "metadata": {},
   "source": [
    "# Mount your google drive\n",
    "\n",
    "Upload this notebook to your google drive (preferably an easy place to find). Then open it (it should open in Colab).\n",
    "\n",
    "If you are now in Colab, run the next cell to mount your google drive. This will give this notebook access to the content of your drive."
   ]
  },
  {
   "cell_type": "code",
   "execution_count": null,
   "metadata": {},
   "outputs": [],
   "source": [
    "from google.colab import drive\n",
    "drive.mount(\"/content/drive\")"
   ]
  },
  {
   "cell_type": "markdown",
   "metadata": {},
   "source": [
    "# Install the dependencies for PDF generation\n",
    "\n",
    "Run the next cell to install the required packages for PDF generation using the `jupyter nbconvert` command. This might take a couple of minutes."
   ]
  },
  {
   "cell_type": "code",
   "execution_count": null,
   "metadata": {},
   "outputs": [],
   "source": [
    "!apt-get install texlive texlive-xetex texlive-latex-extra pandoc"
   ]
  },
  {
   "cell_type": "markdown",
   "metadata": {},
   "source": [
    "# Convert any notebook in your drive to PDF\n",
    "Paste the path to your notebook in your drive as `NOTEBOOK_PATH`, and run the next cell to convert it to PDF. Make sure you have saved the notebook with its latest changes before converting it to PDF."
   ]
  },
  {
   "cell_type": "code",
   "execution_count": null,
   "metadata": {},
   "outputs": [],
   "source": [
    "!jupyter nbconvert --to pdf NOTEBOOK_PATH"
   ]
  }
 ],
 "metadata": {
  "kernelspec": {
   "display_name": "DL_TA",
   "language": "python",
   "name": "python3"
  },
  "language_info": {
   "codemirror_mode": {
    "name": "ipython",
    "version": 3
   },
   "file_extension": ".py",
   "mimetype": "text/x-python",
   "name": "python",
   "nbconvert_exporter": "python",
   "pygments_lexer": "ipython3",
   "version": "3.10.14"
  }
 },
 "nbformat": 4,
 "nbformat_minor": 2
}
